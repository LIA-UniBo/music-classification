{
 "cells": [
  {
   "cell_type": "code",
   "execution_count": 2,
   "metadata": {},
   "outputs": [],
   "source": [
    "%load_ext autoreload\n",
    "%autoreload 2\n",
    "\n",
    "%matplotlib inline"
   ]
  },
  {
   "cell_type": "markdown",
   "metadata": {},
   "source": [
    "# Setup"
   ]
  },
  {
   "cell_type": "code",
   "execution_count": 5,
   "metadata": {},
   "outputs": [],
   "source": [
    "from src.dataset import *\n",
    "import time\n",
    "import pandas"
   ]
  },
  {
   "cell_type": "code",
   "execution_count": 3,
   "metadata": {},
   "outputs": [],
   "source": [
    "RES_DIR_PATH = \"res\"\n",
    "AUDIOS_DIR_PATH = os.path.join(RES_DIR_PATH, \"mp3_data\")\n",
    "MODELS_DIR_PATH = os.path.join(RES_DIR_PATH, \"models\")\n",
    "DATASETS_DIR_PATH = os.path.join(RES_DIR_PATH, \"datasets\")\n",
    "\n",
    "CSV_PATH = os.path.join(RES_DIR_PATH, \"samples.csv\")\n",
    "\n",
    "MODEL_NAME = \"facebook/wav2vec2-base\"\n",
    "TARGET_FEATURE = \"genre\""
   ]
  },
  {
   "cell_type": "code",
   "execution_count": 4,
   "metadata": {},
   "outputs": [],
   "source": [
    "model_id = MODEL_NAME.replace(\"/\", \"-\")\n",
    "run_name = f\"{model_id}-{time.strftime('%Y%m%d-%H%M%S')}\""
   ]
  },
  {
   "cell_type": "markdown",
   "metadata": {},
   "source": [
    "# Analysis"
   ]
  },
  {
   "cell_type": "code",
   "execution_count": null,
   "metadata": {},
   "outputs": [],
   "source": [
    "top_n = {\n",
    "  \"genre\": 5\n",
    "}\n",
    "keep_features = [\"genre\", \"category\"]\n",
    "\n",
    "csv_base_path = CSV_PATH.split(\".\")[0]\n",
    "filtered_csv_path = \"_\".join([csv_base_path] + [f\"{f}{n}\" for f, n in top_n.items()]) + \".csv\"\n",
    "\n",
    "if os.path.exists(filtered_csv_path):\n",
    "    df = pd.read_csv(filtered_csv_path)\n",
    "else:\n",
    "    df = pd.read_csv(CSV_PATH)\n",
    "    df = filter_df(df, keep_features=keep_features, top_n=top_n)\n",
    "    df.to_csv(filtered_csv_path, index=False)\n",
    "\n",
    "df.head()"
   ]
  }
 ],
 "metadata": {
  "interpreter": {
   "hash": "729786e4ac820b34608f27d07ec4fb597776bcc1a9d4d98bff8b4375359b1d17"
  },
  "kernelspec": {
   "display_name": "Python 3.10.9 ('music-classification-89IuhjTZ')",
   "language": "python",
   "name": "python3"
  },
  "language_info": {
   "codemirror_mode": {
    "name": "ipython",
    "version": 3
   },
   "file_extension": ".py",
   "mimetype": "text/x-python",
   "name": "python",
   "nbconvert_exporter": "python",
   "pygments_lexer": "ipython3",
   "version": "3.10.9"
  },
  "orig_nbformat": 4
 },
 "nbformat": 4,
 "nbformat_minor": 2
}
