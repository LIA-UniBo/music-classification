{
 "cells": [
  {
   "cell_type": "code",
   "execution_count": 8,
   "metadata": {},
   "outputs": [],
   "source": [
    "%load_ext autoreload\n",
    "%autoreload 2\n",
    "\n",
    "%matplotlib inline"
   ]
  },
  {
   "cell_type": "markdown",
   "metadata": {},
   "source": [
    "# Setup"
   ]
  },
  {
   "cell_type": "code",
   "execution_count": 9,
   "metadata": {},
   "outputs": [],
   "source": [
    "import time\n",
    "\n",
    "import pandas as pd\n",
    "from transformers import AutoFeatureExtractor\n",
    "from transformers import AutoModelForAudioClassification, TrainingArguments, Trainer\n",
    "\n",
    "from src.dataset import *\n",
    "from src.train import *\n",
    "\n",
    "RES_DIR_PATH = \"res\""
   ]
  },
  {
   "cell_type": "code",
   "execution_count": 10,
   "metadata": {},
   "outputs": [],
   "source": [
    "AUDIOS_DIR_PATH = os.path.join(RES_DIR_PATH, \"mp3_data\")\n",
    "MODELS_DIR_PATH = os.path.join(RES_DIR_PATH, \"models\")\n",
    "DATASETS_DIR_PATH = os.path.join(RES_DIR_PATH, \"datasets\")\n",
    "\n",
    "CSV_PATH = os.path.join(RES_DIR_PATH, \"samples.csv\")\n",
    "\n",
    "MODEL_NAME = \"facebook/wav2vec2-base\"\n",
    "FEATURES_CONFIG = {\n",
    "    \"genre\": {\"top_n\": 5}\n",
    "}\n",
    "\n",
    "TEST_SIZE = 0.2"
   ]
  },
  {
   "cell_type": "code",
   "execution_count": 11,
   "metadata": {},
   "outputs": [],
   "source": [
    "model_id = MODEL_NAME.replace(\"/\", \"-\")\n",
    "run_name = f\"{model_id}-{time.strftime('%Y%m%d-%H%M%S')}\""
   ]
  },
  {
   "cell_type": "markdown",
   "metadata": {},
   "source": [
    "# Analysis"
   ]
  },
  {
   "cell_type": "code",
   "execution_count": 12,
   "metadata": {},
   "outputs": [
    {
     "data": {
      "text/html": [
       "<div>\n",
       "<style scoped>\n",
       "    .dataframe tbody tr th:only-of-type {\n",
       "        vertical-align: middle;\n",
       "    }\n",
       "\n",
       "    .dataframe tbody tr th {\n",
       "        vertical-align: top;\n",
       "    }\n",
       "\n",
       "    .dataframe thead th {\n",
       "        text-align: right;\n",
       "    }\n",
       "</style>\n",
       "<table border=\"1\" class=\"dataframe\">\n",
       "  <thead>\n",
       "    <tr style=\"text-align: right;\">\n",
       "      <th></th>\n",
       "      <th>genre</th>\n",
       "      <th>category</th>\n",
       "      <th>mp3_path</th>\n",
       "      <th>id</th>\n",
       "    </tr>\n",
       "  </thead>\n",
       "  <tbody>\n",
       "    <tr>\n",
       "      <th>0</th>\n",
       "      <td>Hip Hop</td>\n",
       "      <td>Trumpet</td>\n",
       "      <td>res/mp3_data/01 Hip Hop/Abandoned Brass Stabs.mp3</td>\n",
       "      <td>01_Hip_Hop_Abandoned_Brass_Stabs</td>\n",
       "    </tr>\n",
       "    <tr>\n",
       "      <th>1</th>\n",
       "      <td>Hip Hop</td>\n",
       "      <td>Timpani</td>\n",
       "      <td>res/mp3_data/01 Hip Hop/Abandoned Orchestral L...</td>\n",
       "      <td>01_Hip_Hop_Abandoned_Orchestral_Layers</td>\n",
       "    </tr>\n",
       "    <tr>\n",
       "      <th>2</th>\n",
       "      <td>Hip Hop</td>\n",
       "      <td>Electronic Beats</td>\n",
       "      <td>res/mp3_data/01 Hip Hop/Afloat Beat.mp3</td>\n",
       "      <td>01_Hip_Hop_Afloat_Beat</td>\n",
       "    </tr>\n",
       "    <tr>\n",
       "      <th>3</th>\n",
       "      <td>Hip Hop</td>\n",
       "      <td>Synthesizer</td>\n",
       "      <td>res/mp3_data/01 Hip Hop/Afloat Pad.mp3</td>\n",
       "      <td>01_Hip_Hop_Afloat_Pad</td>\n",
       "    </tr>\n",
       "    <tr>\n",
       "      <th>4</th>\n",
       "      <td>Hip Hop</td>\n",
       "      <td>Synthetic Bass</td>\n",
       "      <td>res/mp3_data/01 Hip Hop/Afloat Sub Bass.mp3</td>\n",
       "      <td>01_Hip_Hop_Afloat_Sub_Bass</td>\n",
       "    </tr>\n",
       "  </tbody>\n",
       "</table>\n",
       "</div>"
      ],
      "text/plain": [
       "     genre          category  \\\n",
       "0  Hip Hop           Trumpet   \n",
       "1  Hip Hop           Timpani   \n",
       "2  Hip Hop  Electronic Beats   \n",
       "3  Hip Hop       Synthesizer   \n",
       "4  Hip Hop    Synthetic Bass   \n",
       "\n",
       "                                            mp3_path  \\\n",
       "0  res/mp3_data/01 Hip Hop/Abandoned Brass Stabs.mp3   \n",
       "1  res/mp3_data/01 Hip Hop/Abandoned Orchestral L...   \n",
       "2            res/mp3_data/01 Hip Hop/Afloat Beat.mp3   \n",
       "3             res/mp3_data/01 Hip Hop/Afloat Pad.mp3   \n",
       "4        res/mp3_data/01 Hip Hop/Afloat Sub Bass.mp3   \n",
       "\n",
       "                                       id  \n",
       "0        01_Hip_Hop_Abandoned_Brass_Stabs  \n",
       "1  01_Hip_Hop_Abandoned_Orchestral_Layers  \n",
       "2                  01_Hip_Hop_Afloat_Beat  \n",
       "3                   01_Hip_Hop_Afloat_Pad  \n",
       "4              01_Hip_Hop_Afloat_Sub_Bass  "
      ]
     },
     "execution_count": 12,
     "metadata": {},
     "output_type": "execute_result"
    }
   ],
   "source": [
    "filtered_csv_path = get_csv_name(CSV_PATH, FEATURES_CONFIG)\n",
    "\n",
    "if os.path.exists(filtered_csv_path):\n",
    "    df = pd.read_csv(filtered_csv_path)\n",
    "else:\n",
    "    df = pd.read_csv(CSV_PATH)\n",
    "    df = filter_df(\n",
    "        df, \n",
    "        audios_dir_path=AUDIOS_DIR_PATH, \n",
    "        remove_nones=True,\n",
    "        features_config=FEATURES_CONFIG, \n",
    "    )\n",
    "    df.to_csv(filtered_csv_path, index=False)\n",
    "\n",
    "df.head()"
   ]
  },
  {
   "cell_type": "markdown",
   "metadata": {},
   "source": [
    "# Dataset"
   ]
  },
  {
   "cell_type": "code",
   "execution_count": 15,
   "metadata": {},
   "outputs": [
    {
     "data": {
      "text/plain": [
       "'res/datasets/ds-facebook-wav2vec2-base-full-encoded'"
      ]
     },
     "execution_count": 15,
     "metadata": {},
     "output_type": "execute_result"
    }
   ],
   "source": [
    "encoded_dataset_path = os.path.join(DATASETS_DIR_PATH, f\"ds-{model_id}-full-encoded\")\n",
    "encoded_dataset_path"
   ]
  },
  {
   "cell_type": "code",
   "execution_count": 19,
   "metadata": {},
   "outputs": [
    {
     "data": {
      "text/plain": [
       "Dataset({\n",
       "    features: ['genre', 'category', 'subcategory', 'key type', 'key signature', 'time signature', 'beat count', 'Single', 'Ensemble', 'Dry', 'Processed', 'Clean', 'Distorted', 'Grooving', 'Arrhythmic', 'Acoustic', 'Electric', 'Melodic', 'Dissonant', 'Relaxed', 'Intense', 'Part', 'Fill', 'Cheerful', 'Dark', 'audio_path', 'id', 'input_values', 'audio'],\n",
       "    num_rows: 29220\n",
       "})"
      ]
     },
     "execution_count": 19,
     "metadata": {},
     "output_type": "execute_result"
    }
   ],
   "source": [
    "if os.path.exists(encoded_dataset_path):\n",
    "    ds = datasets.load_from_disk(encoded_dataset_path)\n",
    "    ds = add_audio_column(ds)\n",
    "else:\n",
    "    feature_extractor = AutoFeatureExtractor.from_pretrained(MODEL_NAME)\n",
    "    non_encoded_ds = get_dataset(df)\n",
    "    non_encoded_ds = add_audio_column(non_encoded_ds)\n",
    "    print(\"Applying preprocessing to dataset\")\n",
    "    ds = non_encoded_ds.map(get_preprocess_func(feature_extractor), remove_columns=[\"audio\"], batched=True)\n",
    "    ds.save_to_disk(encoded_dataset_path)\n",
    "\n",
    "ds"
   ]
  },
  {
   "cell_type": "code",
   "execution_count": 4,
   "metadata": {},
   "outputs": [
    {
     "ename": "NameError",
     "evalue": "name 'ds' is not defined",
     "output_type": "error",
     "traceback": [
      "\u001b[0;31m---------------------------------------------------------------------------\u001b[0m",
      "\u001b[0;31mNameError\u001b[0m                                 Traceback (most recent call last)",
      "Cell \u001b[0;32mIn[4], line 3\u001b[0m\n\u001b[1;32m      1\u001b[0m \u001b[38;5;28;01mfrom\u001b[39;00m \u001b[38;5;21;01msrc\u001b[39;00m\u001b[38;5;21;01m.\u001b[39;00m\u001b[38;5;21;01mutils\u001b[39;00m \u001b[38;5;28;01mimport\u001b[39;00m play_random_audios\n\u001b[0;32m----> 3\u001b[0m play_random_audios(\u001b[43mds\u001b[49m[\u001b[38;5;124m\"\u001b[39m\u001b[38;5;124mtrain\u001b[39m\u001b[38;5;124m\"\u001b[39m], get_dataset_label_mapping(ds[\u001b[38;5;124m\"\u001b[39m\u001b[38;5;124mtrain\u001b[39m\u001b[38;5;124m\"\u001b[39m]), \u001b[38;5;241m3\u001b[39m, print_features\u001b[38;5;241m=\u001b[39m[\u001b[38;5;124m\"\u001b[39m\u001b[38;5;124mid\u001b[39m\u001b[38;5;124m\"\u001b[39m] \u001b[38;5;241m+\u001b[39m TARGET_FEATURES)\n",
      "\u001b[0;31mNameError\u001b[0m: name 'ds' is not defined"
     ]
    }
   ],
   "source": [
    "from src.utils import play_random_audios\n",
    "\n",
    "play_random_audios(ds[\"train\"], get_dataset_label_mapping(ds[\"train\"]), 3, print_features=[\"id\"] + TARGET_FEATURES)"
   ]
  },
  {
   "cell_type": "markdown",
   "metadata": {},
   "source": [
    "# Training"
   ]
  },
  {
   "cell_type": "code",
   "execution_count": 9,
   "metadata": {},
   "outputs": [
    {
     "name": "stderr",
     "output_type": "stream",
     "text": [
      "Casting the dataset: 100%|██████████| 13/13 [00:14<00:00,  1.10s/ba]\n",
      "Casting the dataset: 100%|██████████| 4/4 [00:05<00:00,  1.47s/ba]\n"
     ]
    },
    {
     "data": {
      "text/plain": [
       "DatasetDict({\n",
       "    train: Dataset({\n",
       "        features: ['id', 'label', 'input_values'],\n",
       "        num_rows: 12450\n",
       "    })\n",
       "    test: Dataset({\n",
       "        features: ['id', 'label', 'input_values'],\n",
       "        num_rows: 3129\n",
       "    })\n",
       "})"
      ]
     },
     "execution_count": 9,
     "metadata": {},
     "output_type": "execute_result"
    }
   ],
   "source": [
    "prepared_ds = prepare_ds(ds, df, TARGET_FEATURES, fixed_mapping=None, save=False)\n",
    "prepared_ds"
   ]
  },
  {
   "cell_type": "code",
   "execution_count": 10,
   "metadata": {},
   "outputs": [
    {
     "data": {
      "text/plain": [
       "({'Hip Hop': 0,\n",
       "  'Electronic/Dance': 1,\n",
       "  'Rock/Blues': 2,\n",
       "  'World/Ethnic': 3,\n",
       "  'Orchestral': 4},\n",
       " {0: 'Hip Hop',\n",
       "  1: 'Electronic/Dance',\n",
       "  2: 'Rock/Blues',\n",
       "  3: 'World/Ethnic',\n",
       "  4: 'Orchestral'})"
      ]
     },
     "execution_count": 10,
     "metadata": {},
     "output_type": "execute_result"
    }
   ],
   "source": [
    "class_feature = prepared_ds[\"train\"].features[\"label\"]\n",
    "l2i, i2l = get_feature_label_mapping(class_feature)\n",
    "\n",
    "l2i, i2l"
   ]
  },
  {
   "cell_type": "code",
   "execution_count": null,
   "metadata": {},
   "outputs": [],
   "source": [
    "model = AutoModelForAudioClassification.from_pretrained(\n",
    "    \"facebook/wav2vec2-base\",\n",
    "    num_labels=class_feature.num_classes,\n",
    "    label2id=l2i,\n",
    "    id2label=i2l,\n",
    ")"
   ]
  },
  {
   "cell_type": "code",
   "execution_count": null,
   "metadata": {},
   "outputs": [],
   "source": [
    "training_args = TrainingArguments(\n",
    "    run_name=run_name,\n",
    "    output_dir=\"out\",\n",
    "    evaluation_strategy=\"epoch\",\n",
    "    save_strategy=\"epoch\",\n",
    "    per_device_train_batch_size=256,\n",
    "    per_device_eval_batch_size=512,\n",
    "    num_train_epochs=10,\n",
    "    logging_steps=50,\n",
    ")"
   ]
  },
  {
   "cell_type": "code",
   "execution_count": null,
   "metadata": {},
   "outputs": [],
   "source": [
    "import wandb\n",
    "\n",
    "trainer = Trainer(\n",
    "    model=model,\n",
    "    args=training_args,\n",
    "    train_dataset=prepared_ds[\"train\"],\n",
    "    eval_dataset=prepared_ds[\"test\"],\n",
    "    tokenizer=feature_extractor,\n",
    "    compute_metrics=get_metrics_func(),\n",
    ")\n",
    "\n",
    "trainer.train()\n",
    "wandb.finish()"
   ]
  },
  {
   "cell_type": "code",
   "execution_count": null,
   "metadata": {},
   "outputs": [],
   "source": [
    "trainer.save_model(os.path.join(MODELS_DIR_PATH, run_name))"
   ]
  }
 ],
 "metadata": {
  "interpreter": {
   "hash": "729786e4ac820b34608f27d07ec4fb597776bcc1a9d4d98bff8b4375359b1d17"
  },
  "kernelspec": {
   "display_name": "Python 3.10.9 ('music-classification-89IuhjTZ')",
   "language": "python",
   "name": "python3"
  },
  "language_info": {
   "codemirror_mode": {
    "name": "ipython",
    "version": 3
   },
   "file_extension": ".py",
   "mimetype": "text/x-python",
   "name": "python",
   "nbconvert_exporter": "python",
   "pygments_lexer": "ipython3",
   "version": "3.10.9"
  },
  "orig_nbformat": 4
 },
 "nbformat": 4,
 "nbformat_minor": 2
}
