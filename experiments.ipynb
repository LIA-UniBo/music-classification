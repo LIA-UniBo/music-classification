{
 "cells": [
  {
   "cell_type": "code",
   "execution_count": null,
   "metadata": {},
   "outputs": [],
   "source": [
    "%load_ext autoreload\n",
    "%autoreload 2\n",
    "\n",
    "%matplotlib inline"
   ]
  },
  {
   "cell_type": "markdown",
   "metadata": {},
   "source": [
    "# Setup"
   ]
  },
  {
   "cell_type": "code",
   "execution_count": null,
   "metadata": {},
   "outputs": [],
   "source": [
    "import time\n",
    "\n",
    "import pandas as pd\n",
    "\n",
    "from src.dataset import *\n",
    "from src.train import *\n",
    "from src.utils import *\n",
    "\n",
    "RES_DIR_PATH = \"res\""
   ]
  },
  {
   "cell_type": "code",
   "execution_count": null,
   "metadata": {},
   "outputs": [],
   "source": [
    "AUDIOS_DIR_PATH = os.path.join(RES_DIR_PATH, \"mp3_data\")\n",
    "MODELS_DIR_PATH = os.path.join(RES_DIR_PATH, \"models\")\n",
    "DATASETS_DIR_PATH = os.path.join(RES_DIR_PATH, \"datasets\")\n",
    "\n",
    "CSV_PATH = os.path.join(RES_DIR_PATH, \"samples.csv\")\n",
    "\n",
    "FEATURES_CONFIG = {\n",
    "    \"genre\": {\"top_n\": 5, \"samples\": None}\n",
    "}\n",
    "TRAINING_CONFIG = {\n",
    "    \"feature_encoder\": \"wav2vec2\",\n",
    "    \"freeze_encoder\": False,\n",
    "    \"classifier\": {\"layers\": [256], \"dropout\": 0},\n",
    "}\n",
    "\n",
    "VALID_SIZE = 0.1\n",
    "TEST_SIZE = 0.1"
   ]
  },
  {
   "cell_type": "code",
   "execution_count": null,
   "metadata": {},
   "outputs": [],
   "source": [
    "run_descr = \"test\"\n",
    "run_name = f\"{TRAINING_CONFIG['feature_encoder']}-{time.strftime('%Y%m%d-%H%M%S')}-{run_descr}\""
   ]
  },
  {
   "cell_type": "markdown",
   "metadata": {},
   "source": [
    "# Analysis"
   ]
  },
  {
   "cell_type": "code",
   "execution_count": null,
   "metadata": {},
   "outputs": [],
   "source": [
    "filtered_csv_path = get_csv_name(FEATURES_CONFIG, CSV_PATH)\n",
    "\n",
    "if os.path.exists(filtered_csv_path):\n",
    "    df = pd.read_csv(filtered_csv_path)\n",
    "else:\n",
    "    df = pd.read_csv(CSV_PATH)\n",
    "    df = filter_df(\n",
    "        df, \n",
    "        audios_dir_path=AUDIOS_DIR_PATH, \n",
    "        remove_nones=True,\n",
    "        features_config=FEATURES_CONFIG, \n",
    "    )\n",
    "    df.to_csv(filtered_csv_path, index=False)\n",
    "\n",
    "df.head()"
   ]
  },
  {
   "cell_type": "code",
   "execution_count": null,
   "metadata": {},
   "outputs": [],
   "source": [
    "for f in FEATURES_CONFIG:\n",
    "    print(\"=\"*50)\n",
    "    print(f)\n",
    "    print(\"-\"*50)\n",
    "    print(df[f].value_counts())"
   ]
  },
  {
   "cell_type": "markdown",
   "metadata": {},
   "source": [
    "# Dataset"
   ]
  },
  {
   "cell_type": "code",
   "execution_count": null,
   "metadata": {},
   "outputs": [],
   "source": [
    "encoded_dataset_path = os.path.join(DATASETS_DIR_PATH, f\"ds-{TRAINING_CONFIG['feature_encoder']}-full-encoded\")\n",
    "encoded_dataset_path"
   ]
  },
  {
   "cell_type": "code",
   "execution_count": null,
   "metadata": {},
   "outputs": [],
   "source": [
    "if os.path.exists(encoded_dataset_path):\n",
    "    ds = datasets.load_from_disk(encoded_dataset_path)\n",
    "    ds = add_audio_column(ds, TRAINING_CONFIG)\n",
    "else:\n",
    "    non_encoded_ds = get_dataset(df)\n",
    "    non_encoded_ds = add_audio_column(non_encoded_ds, TRAINING_CONFIG)\n",
    "    print(\"Applying preprocessing to dataset\")\n",
    "    ds = non_encoded_ds.map(get_preprocess_func(TRAINING_CONFIG), remove_columns=[\"audio\"], batched=True)\n",
    "    ds.save_to_disk(encoded_dataset_path)\n",
    "\n",
    "ds"
   ]
  },
  {
   "cell_type": "code",
   "execution_count": null,
   "metadata": {},
   "outputs": [],
   "source": [
    "# play_random_audios(ds[\"train\"], get_dataset_label_mapping(ds[\"train\"]), 3, print_features=[\"id\"] + TARGET_FEATURES)"
   ]
  },
  {
   "cell_type": "markdown",
   "metadata": {},
   "source": [
    "# Training"
   ]
  },
  {
   "cell_type": "code",
   "execution_count": null,
   "metadata": {},
   "outputs": [],
   "source": [
    "prepared_ds = prepare_ds(ds, df, FEATURES_CONFIG, 0.2, fixed_mapping=None, save=False)\n",
    "prepared_ds"
   ]
  },
  {
   "cell_type": "code",
   "execution_count": null,
   "metadata": {},
   "outputs": [],
   "source": [
    "model = get_model(TRAINING_CONFIG, prepared_ds)\n",
    "model"
   ]
  },
  {
   "cell_type": "code",
   "execution_count": null,
   "metadata": {},
   "outputs": [],
   "source": [
    "trainer = get_trainer(\n",
    "    run_name=run_name,\n",
    "    model=model,\n",
    "    train_ds=prepared_ds[\"train\"],\n",
    "    eval_ds=prepared_ds[\"valid\"],\n",
    "    training_config=TRAINING_CONFIG,\n",
    "    feature_extractor=None,\n",
    "    output_dir=\"out\",\n",
    "    debug=True,\n",
    "    env=\"jupyter\",\n",
    ")"
   ]
  },
  {
   "cell_type": "code",
   "execution_count": null,
   "metadata": {},
   "outputs": [],
   "source": [
    "trainer.train()\n",
    "end_training(run_name, trainer, MODELS_DIR_PATH)"
   ]
  }
 ],
 "metadata": {
  "interpreter": {
   "hash": "729786e4ac820b34608f27d07ec4fb597776bcc1a9d4d98bff8b4375359b1d17"
  },
  "kernelspec": {
   "display_name": "Python 3.10.9 ('music-classification-89IuhjTZ')",
   "language": "python",
   "name": "python3"
  },
  "language_info": {
   "codemirror_mode": {
    "name": "ipython",
    "version": 3
   },
   "file_extension": ".py",
   "mimetype": "text/x-python",
   "name": "python",
   "nbconvert_exporter": "python",
   "pygments_lexer": "ipython3",
   "version": "3.10.9"
  },
  "orig_nbformat": 4
 },
 "nbformat": 4,
 "nbformat_minor": 2
}
